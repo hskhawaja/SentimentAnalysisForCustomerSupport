{
 "cells": [
  {
   "cell_type": "markdown",
   "id": "a34dd72e",
   "metadata": {},
   "source": [
    "## Import Packages\n",
    "Importing relevant packages for data ingestion, preprocessing, visualization and sentiment analysis."
   ]
  },
  {
   "cell_type": "code",
   "execution_count": 1,
   "id": "d9c50689",
   "metadata": {},
   "outputs": [],
   "source": [
    "import re\n",
    "import swifter\n",
    "import pandas as pd\n",
    "import seaborn as sns\n",
    "from langdetect import detect\n",
    "import matplotlib.pyplot as plt\n",
    "from transformers import pipeline\n",
    "\n",
    "import warnings\n",
    "warnings.simplefilter('ignore')"
   ]
  },
  {
   "cell_type": "markdown",
   "id": "fd409a9c",
   "metadata": {},
   "source": [
    "## Read Data\n",
    "Read .csv file containing customer support tweets."
   ]
  },
  {
   "cell_type": "code",
   "execution_count": 2,
   "id": "64b4b6d2",
   "metadata": {},
   "outputs": [
    {
     "data": {
      "text/html": [
       "<div>\n",
       "<style scoped>\n",
       "    .dataframe tbody tr th:only-of-type {\n",
       "        vertical-align: middle;\n",
       "    }\n",
       "\n",
       "    .dataframe tbody tr th {\n",
       "        vertical-align: top;\n",
       "    }\n",
       "\n",
       "    .dataframe thead th {\n",
       "        text-align: right;\n",
       "    }\n",
       "</style>\n",
       "<table border=\"1\" class=\"dataframe\">\n",
       "  <thead>\n",
       "    <tr style=\"text-align: right;\">\n",
       "      <th></th>\n",
       "      <th>tweet_id</th>\n",
       "      <th>author_id</th>\n",
       "      <th>inbound</th>\n",
       "      <th>created_at</th>\n",
       "      <th>text</th>\n",
       "      <th>response_tweet_id</th>\n",
       "      <th>in_response_to_tweet_id</th>\n",
       "    </tr>\n",
       "  </thead>\n",
       "  <tbody>\n",
       "    <tr>\n",
       "      <th>0</th>\n",
       "      <td>1</td>\n",
       "      <td>sprintcare</td>\n",
       "      <td>False</td>\n",
       "      <td>Tue Oct 31 22:10:47 +0000 2017</td>\n",
       "      <td>@115712 I understand. I would like to assist y...</td>\n",
       "      <td>2</td>\n",
       "      <td>3.0</td>\n",
       "    </tr>\n",
       "    <tr>\n",
       "      <th>1</th>\n",
       "      <td>2</td>\n",
       "      <td>115712</td>\n",
       "      <td>True</td>\n",
       "      <td>Tue Oct 31 22:11:45 +0000 2017</td>\n",
       "      <td>@sprintcare and how do you propose we do that</td>\n",
       "      <td>NaN</td>\n",
       "      <td>1.0</td>\n",
       "    </tr>\n",
       "    <tr>\n",
       "      <th>2</th>\n",
       "      <td>3</td>\n",
       "      <td>115712</td>\n",
       "      <td>True</td>\n",
       "      <td>Tue Oct 31 22:08:27 +0000 2017</td>\n",
       "      <td>@sprintcare I have sent several private messag...</td>\n",
       "      <td>1</td>\n",
       "      <td>4.0</td>\n",
       "    </tr>\n",
       "    <tr>\n",
       "      <th>3</th>\n",
       "      <td>4</td>\n",
       "      <td>sprintcare</td>\n",
       "      <td>False</td>\n",
       "      <td>Tue Oct 31 21:54:49 +0000 2017</td>\n",
       "      <td>@115712 Please send us a Private Message so th...</td>\n",
       "      <td>3</td>\n",
       "      <td>5.0</td>\n",
       "    </tr>\n",
       "    <tr>\n",
       "      <th>4</th>\n",
       "      <td>5</td>\n",
       "      <td>115712</td>\n",
       "      <td>True</td>\n",
       "      <td>Tue Oct 31 21:49:35 +0000 2017</td>\n",
       "      <td>@sprintcare I did.</td>\n",
       "      <td>4</td>\n",
       "      <td>6.0</td>\n",
       "    </tr>\n",
       "  </tbody>\n",
       "</table>\n",
       "</div>"
      ],
      "text/plain": [
       "   tweet_id   author_id  inbound                      created_at  \\\n",
       "0         1  sprintcare    False  Tue Oct 31 22:10:47 +0000 2017   \n",
       "1         2      115712     True  Tue Oct 31 22:11:45 +0000 2017   \n",
       "2         3      115712     True  Tue Oct 31 22:08:27 +0000 2017   \n",
       "3         4  sprintcare    False  Tue Oct 31 21:54:49 +0000 2017   \n",
       "4         5      115712     True  Tue Oct 31 21:49:35 +0000 2017   \n",
       "\n",
       "                                                text response_tweet_id  \\\n",
       "0  @115712 I understand. I would like to assist y...                 2   \n",
       "1      @sprintcare and how do you propose we do that               NaN   \n",
       "2  @sprintcare I have sent several private messag...                 1   \n",
       "3  @115712 Please send us a Private Message so th...                 3   \n",
       "4                                 @sprintcare I did.                 4   \n",
       "\n",
       "   in_response_to_tweet_id  \n",
       "0                      3.0  \n",
       "1                      1.0  \n",
       "2                      4.0  \n",
       "3                      5.0  \n",
       "4                      6.0  "
      ]
     },
     "execution_count": 2,
     "metadata": {},
     "output_type": "execute_result"
    }
   ],
   "source": [
    "df = pd.read_csv('twcs.csv')\n",
    "df.head()"
   ]
  },
  {
   "cell_type": "markdown",
   "id": "fe25b9cc",
   "metadata": {},
   "source": [
    "## Clean Data\n",
    "Removes mentions, hashtags, URLs, special characters, and digits."
   ]
  },
  {
   "cell_type": "code",
   "execution_count": 3,
   "id": "b3c5c476",
   "metadata": {},
   "outputs": [
    {
     "data": {
      "application/vnd.jupyter.widget-view+json": {
       "model_id": "9384f92e1862468099fbabffa21926bb",
       "version_major": 2,
       "version_minor": 0
      },
      "text/plain": [
       "Pandas Apply:   0%|          | 0/2811774 [00:00<?, ?it/s]"
      ]
     },
     "metadata": {},
     "output_type": "display_data"
    }
   ],
   "source": [
    "# Function to clean tweets\n",
    "def clean_tweet(tweet):\n",
    "    # Convert to lower case\n",
    "    tweet = tweet.lower()\n",
    "    # Remove mentions, hashtags, and URLs\n",
    "    cleaned_tweet = re.sub(r'@\\w+|#\\w+|http\\S+', '', tweet)\n",
    "    # Remove special characters and digits\n",
    "    cleaned_tweet = re.sub(r'[^\\w\\s]', '', cleaned_tweet)\n",
    "    cleaned_tweet = re.sub(r'\\d+', '', cleaned_tweet)\n",
    "    return cleaned_tweet\n",
    "\n",
    "# Clean the 'text' column\n",
    "df['cleaned_text'] = df['text'].swifter.apply(clean_tweet)\n",
    "df.to_csv('cleaned_tweets.csv', index=False)"
   ]
  },
  {
   "cell_type": "markdown",
   "id": "f1c7be5d",
   "metadata": {},
   "source": [
    "## Most Mentioned Authors\n",
    "Extracting the list of top ten mentioned authors."
   ]
  },
  {
   "cell_type": "code",
   "execution_count": 4,
   "id": "ddb6041f",
   "metadata": {},
   "outputs": [
    {
     "name": "stdout",
     "output_type": "stream",
     "text": [
      "Most Mentioned Authors:\n",
      "AmazonHelp         169833\n",
      "AppleSupport       106780\n",
      "Uber_Support        56252\n",
      "SpotifyCares        43257\n",
      "Delta               42209\n",
      "Tesco               38522\n",
      "AmericanAir         36733\n",
      "TMobileHelp         34314\n",
      "comcastcares        33017\n",
      "British_Airways     29323\n",
      "Name: author_id, dtype: int64\n"
     ]
    }
   ],
   "source": [
    "# Most mentioned authors\n",
    "mentioned_authors = df[df['text'].str.contains('@')]['author_id'].value_counts().head(10)\n",
    "print(\"Most Mentioned Authors:\")\n",
    "print(mentioned_authors)"
   ]
  },
  {
   "cell_type": "code",
   "execution_count": 5,
   "id": "45999b85",
   "metadata": {},
   "outputs": [
    {
     "data": {
      "image/png": "[encoded data removed]",
      "text/plain": [
       "<Figure size 864x432 with 1 Axes>"
      ]
     },
     "metadata": {
      "needs_background": "light"
     },
     "output_type": "display_data"
    }
   ],
   "source": [
    "# Visualize patterns\n",
    "plt.figure(figsize=(12, 6))\n",
    "\n",
    "# Most mentioned authors plot\n",
    "plt.subplot(1, 1, 1)\n",
    "sns.barplot(x=mentioned_authors.values, y=mentioned_authors.index, orient='h')\n",
    "plt.title(\"Most Mentioned Authors\")\n",
    "plt.xlabel(\"Count\")\n",
    "\n",
    "plt.tight_layout()\n",
    "plt.show()"
   ]
  },
  {
   "cell_type": "markdown",
   "id": "b2a0a8bb",
   "metadata": {},
   "source": [
    "## Language Detection\n",
    "We detect and analyze most used language by customers. To speedup the process, we will only focus on \"Top Mentioned Author\"."
   ]
  },
  {
   "cell_type": "code",
   "execution_count": 6,
   "id": "5ce7e139",
   "metadata": {},
   "outputs": [],
   "source": [
    "df_top = df[df['text'].str.contains('@AmazonHelp')]"
   ]
  },
  {
   "cell_type": "code",
   "execution_count": 9,
   "id": "637db008",
   "metadata": {},
   "outputs": [
    {
     "data": {
      "application/vnd.jupyter.widget-view+json": {
       "model_id": "941712f07fd04025815d86ba2b4279e2",
       "version_major": 2,
       "version_minor": 0
      },
      "text/plain": [
       "Pandas Apply:   0%|          | 0/134747 [00:00<?, ?it/s]"
      ]
     },
     "metadata": {},
     "output_type": "display_data"
    },
    {
     "data": {
      "text/html": [
       "<div>\n",
       "<style scoped>\n",
       "    .dataframe tbody tr th:only-of-type {\n",
       "        vertical-align: middle;\n",
       "    }\n",
       "\n",
       "    .dataframe tbody tr th {\n",
       "        vertical-align: top;\n",
       "    }\n",
       "\n",
       "    .dataframe thead th {\n",
       "        text-align: right;\n",
       "    }\n",
       "</style>\n",
       "<table border=\"1\" class=\"dataframe\">\n",
       "  <thead>\n",
       "    <tr style=\"text-align: right;\">\n",
       "      <th></th>\n",
       "      <th>tweet_id</th>\n",
       "      <th>author_id</th>\n",
       "      <th>inbound</th>\n",
       "      <th>created_at</th>\n",
       "      <th>text</th>\n",
       "      <th>response_tweet_id</th>\n",
       "      <th>in_response_to_tweet_id</th>\n",
       "      <th>cleaned_text</th>\n",
       "      <th>language</th>\n",
       "    </tr>\n",
       "  </thead>\n",
       "  <tbody>\n",
       "    <tr>\n",
       "      <th>182</th>\n",
       "      <td>270</td>\n",
       "      <td>115770</td>\n",
       "      <td>True</td>\n",
       "      <td>Wed Nov 22 09:24:30 +0000 2017</td>\n",
       "      <td>@AmazonHelp ありがとうございます。\\n今、電話で主人が対応していただいてます。</td>\n",
       "      <td>NaN</td>\n",
       "      <td>269.0</td>\n",
       "      <td>ありがとうございます\\n今電話で主人が対応していただいてます</td>\n",
       "      <td>ja</td>\n",
       "    </tr>\n",
       "    <tr>\n",
       "      <th>183</th>\n",
       "      <td>271</td>\n",
       "      <td>115770</td>\n",
       "      <td>True</td>\n",
       "      <td>Wed Nov 22 09:30:36 +0000 2017</td>\n",
       "      <td>@AmazonHelp 電話で対応してもらいましたが改良されませんでした。\\n保証期間も過ぎ...</td>\n",
       "      <td>273</td>\n",
       "      <td>269.0</td>\n",
       "      <td>電話で対応してもらいましたが改良されませんでした\\n保証期間も過ぎてるので買い直しになるん...</td>\n",
       "      <td>ja</td>\n",
       "    </tr>\n",
       "    <tr>\n",
       "      <th>185</th>\n",
       "      <td>274</td>\n",
       "      <td>115770</td>\n",
       "      <td>True</td>\n",
       "      <td>Wed Nov 22 09:44:04 +0000 2017</td>\n",
       "      <td>@AmazonHelp こちらこそありがとうございました。</td>\n",
       "      <td>275</td>\n",
       "      <td>273.0</td>\n",
       "      <td>こちらこそありがとうございました</td>\n",
       "      <td>ja</td>\n",
       "    </tr>\n",
       "    <tr>\n",
       "      <th>322</th>\n",
       "      <td>616</td>\n",
       "      <td>115820</td>\n",
       "      <td>True</td>\n",
       "      <td>Tue Oct 31 23:22:08 +0000 2017</td>\n",
       "      <td>@AmazonHelp 3 different people have given 3 di...</td>\n",
       "      <td>618</td>\n",
       "      <td>615.0</td>\n",
       "      <td>different people have given  different answe...</td>\n",
       "      <td>en</td>\n",
       "    </tr>\n",
       "    <tr>\n",
       "      <th>324</th>\n",
       "      <td>619</td>\n",
       "      <td>115820</td>\n",
       "      <td>True</td>\n",
       "      <td>Tue Oct 31 23:32:26 +0000 2017</td>\n",
       "      <td>@AmazonHelp I frankly don't have the patience ...</td>\n",
       "      <td>NaN</td>\n",
       "      <td>618.0</td>\n",
       "      <td>i frankly dont have the patience for another ...</td>\n",
       "      <td>en</td>\n",
       "    </tr>\n",
       "  </tbody>\n",
       "</table>\n",
       "</div>"
      ],
      "text/plain": [
       "     tweet_id author_id  inbound                      created_at  \\\n",
       "182       270    115770     True  Wed Nov 22 09:24:30 +0000 2017   \n",
       "183       271    115770     True  Wed Nov 22 09:30:36 +0000 2017   \n",
       "185       274    115770     True  Wed Nov 22 09:44:04 +0000 2017   \n",
       "322       616    115820     True  Tue Oct 31 23:22:08 +0000 2017   \n",
       "324       619    115820     True  Tue Oct 31 23:32:26 +0000 2017   \n",
       "\n",
       "                                                  text response_tweet_id  \\\n",
       "182      @AmazonHelp ありがとうございます。\\n今、電話で主人が対応していただいてます。               NaN   \n",
       "183  @AmazonHelp 電話で対応してもらいましたが改良されませんでした。\\n保証期間も過ぎ...               273   \n",
       "185                      @AmazonHelp こちらこそありがとうございました。               275   \n",
       "322  @AmazonHelp 3 different people have given 3 di...               618   \n",
       "324  @AmazonHelp I frankly don't have the patience ...               NaN   \n",
       "\n",
       "     in_response_to_tweet_id  \\\n",
       "182                    269.0   \n",
       "183                    269.0   \n",
       "185                    273.0   \n",
       "322                    615.0   \n",
       "324                    618.0   \n",
       "\n",
       "                                          cleaned_text language  \n",
       "182                     ありがとうございます\\n今電話で主人が対応していただいてます       ja  \n",
       "183   電話で対応してもらいましたが改良されませんでした\\n保証期間も過ぎてるので買い直しになるん...       ja  \n",
       "185                                   こちらこそありがとうございました       ja  \n",
       "322    different people have given  different answe...       en  \n",
       "324   i frankly dont have the patience for another ...       en  "
      ]
     },
     "execution_count": 9,
     "metadata": {},
     "output_type": "execute_result"
    }
   ],
   "source": [
    "def lang_detect(tweet):\n",
    "    try:\n",
    "        lang = detect(tweet)\n",
    "        return lang\n",
    "    except:\n",
    "        return 'Unknown'\n",
    "\n",
    "df_top['language'] = df_top['cleaned_text'].swifter.apply(lang_detect)\n",
    "df_top.to_csv('clean_tweets_language.csv', index=False)\n",
    "df_top.head()"
   ]
  },
  {
   "cell_type": "code",
   "execution_count": 27,
   "id": "2fc1142a",
   "metadata": {},
   "outputs": [
    {
     "data": {
      "image/png": "[encoded data removed]",
      "text/plain": [
       "<Figure size 432x288 with 1 Axes>"
      ]
     },
     "metadata": {},
     "output_type": "display_data"
    }
   ],
   "source": [
    "lang_data = dict(df_top['language'].value_counts()[:3])\n",
    "\n",
    "# declaring data\n",
    "keys = list(lang_data.keys())\n",
    "data = list(lang_data.values())\n",
    "  \n",
    "# declaring exploding pie\n",
    "explode = [0.3, 0, 0]\n",
    "# define Seaborn color palette to use\n",
    "palette_color = sns.color_palette('bright')\n",
    "  \n",
    "# plotting data on chart\n",
    "plt.pie(data, labels=keys, colors=palette_color,\n",
    "        explode=explode, autopct='%.0f%%')\n",
    "  \n",
    "# displaying chart\n",
    "plt.title(\"Top Languages Used\")\n",
    "plt.show()"
   ]
  },
  {
   "cell_type": "markdown",
   "id": "ab4052ac",
   "metadata": {},
   "source": [
    "## Sentiment Analysis\n",
    "Since our data is unlabelled, we will utilize a pre-trained model. We'll only focus on english tweets as of now."
   ]
  },
  {
   "cell_type": "code",
   "execution_count": 29,
   "id": "bedde4af",
   "metadata": {},
   "outputs": [
    {
     "data": {
      "text/html": [
       "<div>\n",
       "<style scoped>\n",
       "    .dataframe tbody tr th:only-of-type {\n",
       "        vertical-align: middle;\n",
       "    }\n",
       "\n",
       "    .dataframe tbody tr th {\n",
       "        vertical-align: top;\n",
       "    }\n",
       "\n",
       "    .dataframe thead th {\n",
       "        text-align: right;\n",
       "    }\n",
       "</style>\n",
       "<table border=\"1\" class=\"dataframe\">\n",
       "  <thead>\n",
       "    <tr style=\"text-align: right;\">\n",
       "      <th></th>\n",
       "      <th>tweet_id</th>\n",
       "      <th>author_id</th>\n",
       "      <th>inbound</th>\n",
       "      <th>created_at</th>\n",
       "      <th>text</th>\n",
       "      <th>response_tweet_id</th>\n",
       "      <th>in_response_to_tweet_id</th>\n",
       "      <th>cleaned_text</th>\n",
       "      <th>language</th>\n",
       "    </tr>\n",
       "  </thead>\n",
       "  <tbody>\n",
       "    <tr>\n",
       "      <th>322</th>\n",
       "      <td>616</td>\n",
       "      <td>115820</td>\n",
       "      <td>True</td>\n",
       "      <td>Tue Oct 31 23:22:08 +0000 2017</td>\n",
       "      <td>@AmazonHelp 3 different people have given 3 di...</td>\n",
       "      <td>618</td>\n",
       "      <td>615.0</td>\n",
       "      <td>different people have given  different answe...</td>\n",
       "      <td>en</td>\n",
       "    </tr>\n",
       "    <tr>\n",
       "      <th>324</th>\n",
       "      <td>619</td>\n",
       "      <td>115820</td>\n",
       "      <td>True</td>\n",
       "      <td>Tue Oct 31 23:32:26 +0000 2017</td>\n",
       "      <td>@AmazonHelp I frankly don't have the patience ...</td>\n",
       "      <td>NaN</td>\n",
       "      <td>618.0</td>\n",
       "      <td>i frankly dont have the patience for another ...</td>\n",
       "      <td>en</td>\n",
       "    </tr>\n",
       "    <tr>\n",
       "      <th>333</th>\n",
       "      <td>627</td>\n",
       "      <td>115827</td>\n",
       "      <td>True</td>\n",
       "      <td>Wed Nov 01 12:50:18 +0000 2017</td>\n",
       "      <td>@AmazonHelp @115826 Yeah this is crazy we’re l...</td>\n",
       "      <td>629</td>\n",
       "      <td>626.0</td>\n",
       "      <td>yeah this is crazy were less than a week awa...</td>\n",
       "      <td>en</td>\n",
       "    </tr>\n",
       "    <tr>\n",
       "      <th>340</th>\n",
       "      <td>634</td>\n",
       "      <td>115831</td>\n",
       "      <td>True</td>\n",
       "      <td>Tue Oct 31 21:39:58 +0000 2017</td>\n",
       "      <td>@115821 @AmazonHelp why is my order at my loca...</td>\n",
       "      <td>633</td>\n",
       "      <td>NaN</td>\n",
       "      <td>why is my order at my local courier for the ...</td>\n",
       "      <td>en</td>\n",
       "    </tr>\n",
       "    <tr>\n",
       "      <th>344</th>\n",
       "      <td>638</td>\n",
       "      <td>115834</td>\n",
       "      <td>True</td>\n",
       "      <td>Tue Oct 31 22:19:56 +0000 2017</td>\n",
       "      <td>@AmazonHelp Hi ready for some help</td>\n",
       "      <td>637</td>\n",
       "      <td>639.0</td>\n",
       "      <td>hi ready for some help</td>\n",
       "      <td>en</td>\n",
       "    </tr>\n",
       "  </tbody>\n",
       "</table>\n",
       "</div>"
      ],
      "text/plain": [
       "     tweet_id author_id  inbound                      created_at  \\\n",
       "322       616    115820     True  Tue Oct 31 23:22:08 +0000 2017   \n",
       "324       619    115820     True  Tue Oct 31 23:32:26 +0000 2017   \n",
       "333       627    115827     True  Wed Nov 01 12:50:18 +0000 2017   \n",
       "340       634    115831     True  Tue Oct 31 21:39:58 +0000 2017   \n",
       "344       638    115834     True  Tue Oct 31 22:19:56 +0000 2017   \n",
       "\n",
       "                                                  text response_tweet_id  \\\n",
       "322  @AmazonHelp 3 different people have given 3 di...               618   \n",
       "324  @AmazonHelp I frankly don't have the patience ...               NaN   \n",
       "333  @AmazonHelp @115826 Yeah this is crazy we’re l...               629   \n",
       "340  @115821 @AmazonHelp why is my order at my loca...               633   \n",
       "344                 @AmazonHelp Hi ready for some help               637   \n",
       "\n",
       "     in_response_to_tweet_id  \\\n",
       "322                    615.0   \n",
       "324                    618.0   \n",
       "333                    626.0   \n",
       "340                      NaN   \n",
       "344                    639.0   \n",
       "\n",
       "                                          cleaned_text language  \n",
       "322    different people have given  different answe...       en  \n",
       "324   i frankly dont have the patience for another ...       en  \n",
       "333    yeah this is crazy were less than a week awa...       en  \n",
       "340    why is my order at my local courier for the ...       en  \n",
       "344                             hi ready for some help       en  "
      ]
     },
     "execution_count": 29,
     "metadata": {},
     "output_type": "execute_result"
    }
   ],
   "source": [
    "df_eng = df_top[df_top['language']=='en']\n",
    "df_eng.head()"
   ]
  },
  {
   "cell_type": "code",
   "execution_count": 30,
   "id": "0967902c",
   "metadata": {},
   "outputs": [
    {
     "name": "stderr",
     "output_type": "stream",
     "text": [
      "Some weights of the model checkpoint at cardiffnlp/twitter-roberta-base-sentiment-latest were not used when initializing RobertaForSequenceClassification: ['roberta.pooler.dense.weight', 'roberta.pooler.dense.bias']\n",
      "- This IS expected if you are initializing RobertaForSequenceClassification from the checkpoint of a model trained on another task or with another architecture (e.g. initializing a BertForSequenceClassification model from a BertForPreTraining model).\n",
      "- This IS NOT expected if you are initializing RobertaForSequenceClassification from the checkpoint of a model that you expect to be exactly identical (initializing a BertForSequenceClassification model from a BertForSequenceClassification model).\n"
     ]
    }
   ],
   "source": [
    "model_path = f\"cardiffnlp/twitter-roberta-base-sentiment-latest\"\n",
    "sentiment_task = pipeline(\"sentiment-analysis\", model=model_path, tokenizer=model_path)"
   ]
  },
  {
   "cell_type": "code",
   "execution_count": 31,
   "id": "5534804d",
   "metadata": {},
   "outputs": [
    {
     "data": {
      "application/vnd.jupyter.widget-view+json": {
       "model_id": "6cb946960c534a7fa05794d6474550db",
       "version_major": 2,
       "version_minor": 0
      },
      "text/plain": [
       "Pandas Apply:   0%|          | 0/100888 [00:00<?, ?it/s]"
      ]
     },
     "metadata": {},
     "output_type": "display_data"
    },
    {
     "data": {
      "text/html": [
       "<div>\n",
       "<style scoped>\n",
       "    .dataframe tbody tr th:only-of-type {\n",
       "        vertical-align: middle;\n",
       "    }\n",
       "\n",
       "    .dataframe tbody tr th {\n",
       "        vertical-align: top;\n",
       "    }\n",
       "\n",
       "    .dataframe thead th {\n",
       "        text-align: right;\n",
       "    }\n",
       "</style>\n",
       "<table border=\"1\" class=\"dataframe\">\n",
       "  <thead>\n",
       "    <tr style=\"text-align: right;\">\n",
       "      <th></th>\n",
       "      <th>tweet_id</th>\n",
       "      <th>author_id</th>\n",
       "      <th>inbound</th>\n",
       "      <th>created_at</th>\n",
       "      <th>text</th>\n",
       "      <th>response_tweet_id</th>\n",
       "      <th>in_response_to_tweet_id</th>\n",
       "      <th>cleaned_text</th>\n",
       "      <th>language</th>\n",
       "      <th>sentiment</th>\n",
       "    </tr>\n",
       "  </thead>\n",
       "  <tbody>\n",
       "    <tr>\n",
       "      <th>322</th>\n",
       "      <td>616</td>\n",
       "      <td>115820</td>\n",
       "      <td>True</td>\n",
       "      <td>Tue Oct 31 23:22:08 +0000 2017</td>\n",
       "      <td>@AmazonHelp 3 different people have given 3 di...</td>\n",
       "      <td>618</td>\n",
       "      <td>615.0</td>\n",
       "      <td>different people have given  different answe...</td>\n",
       "      <td>en</td>\n",
       "      <td>negative</td>\n",
       "    </tr>\n",
       "    <tr>\n",
       "      <th>324</th>\n",
       "      <td>619</td>\n",
       "      <td>115820</td>\n",
       "      <td>True</td>\n",
       "      <td>Tue Oct 31 23:32:26 +0000 2017</td>\n",
       "      <td>@AmazonHelp I frankly don't have the patience ...</td>\n",
       "      <td>NaN</td>\n",
       "      <td>618.0</td>\n",
       "      <td>i frankly dont have the patience for another ...</td>\n",
       "      <td>en</td>\n",
       "      <td>negative</td>\n",
       "    </tr>\n",
       "    <tr>\n",
       "      <th>333</th>\n",
       "      <td>627</td>\n",
       "      <td>115827</td>\n",
       "      <td>True</td>\n",
       "      <td>Wed Nov 01 12:50:18 +0000 2017</td>\n",
       "      <td>@AmazonHelp @115826 Yeah this is crazy we’re l...</td>\n",
       "      <td>629</td>\n",
       "      <td>626.0</td>\n",
       "      <td>yeah this is crazy were less than a week awa...</td>\n",
       "      <td>en</td>\n",
       "      <td>negative</td>\n",
       "    </tr>\n",
       "    <tr>\n",
       "      <th>340</th>\n",
       "      <td>634</td>\n",
       "      <td>115831</td>\n",
       "      <td>True</td>\n",
       "      <td>Tue Oct 31 21:39:58 +0000 2017</td>\n",
       "      <td>@115821 @AmazonHelp why is my order at my loca...</td>\n",
       "      <td>633</td>\n",
       "      <td>NaN</td>\n",
       "      <td>why is my order at my local courier for the ...</td>\n",
       "      <td>en</td>\n",
       "      <td>negative</td>\n",
       "    </tr>\n",
       "    <tr>\n",
       "      <th>344</th>\n",
       "      <td>638</td>\n",
       "      <td>115834</td>\n",
       "      <td>True</td>\n",
       "      <td>Tue Oct 31 22:19:56 +0000 2017</td>\n",
       "      <td>@AmazonHelp Hi ready for some help</td>\n",
       "      <td>637</td>\n",
       "      <td>639.0</td>\n",
       "      <td>hi ready for some help</td>\n",
       "      <td>en</td>\n",
       "      <td>neutral</td>\n",
       "    </tr>\n",
       "  </tbody>\n",
       "</table>\n",
       "</div>"
      ],
      "text/plain": [
       "     tweet_id author_id  inbound                      created_at  \\\n",
       "322       616    115820     True  Tue Oct 31 23:22:08 +0000 2017   \n",
       "324       619    115820     True  Tue Oct 31 23:32:26 +0000 2017   \n",
       "333       627    115827     True  Wed Nov 01 12:50:18 +0000 2017   \n",
       "340       634    115831     True  Tue Oct 31 21:39:58 +0000 2017   \n",
       "344       638    115834     True  Tue Oct 31 22:19:56 +0000 2017   \n",
       "\n",
       "                                                  text response_tweet_id  \\\n",
       "322  @AmazonHelp 3 different people have given 3 di...               618   \n",
       "324  @AmazonHelp I frankly don't have the patience ...               NaN   \n",
       "333  @AmazonHelp @115826 Yeah this is crazy we’re l...               629   \n",
       "340  @115821 @AmazonHelp why is my order at my loca...               633   \n",
       "344                 @AmazonHelp Hi ready for some help               637   \n",
       "\n",
       "     in_response_to_tweet_id  \\\n",
       "322                    615.0   \n",
       "324                    618.0   \n",
       "333                    626.0   \n",
       "340                      NaN   \n",
       "344                    639.0   \n",
       "\n",
       "                                          cleaned_text language sentiment  \n",
       "322    different people have given  different answe...       en  negative  \n",
       "324   i frankly dont have the patience for another ...       en  negative  \n",
       "333    yeah this is crazy were less than a week awa...       en  negative  \n",
       "340    why is my order at my local courier for the ...       en  negative  \n",
       "344                             hi ready for some help       en   neutral  "
      ]
     },
     "execution_count": 31,
     "metadata": {},
     "output_type": "execute_result"
    }
   ],
   "source": [
    "def get_sentiment(tweet):\n",
    "    sentiment = sentiment_task(tweet)[0]['label']\n",
    "    return sentiment\n",
    "\n",
    "df_eng['sentiment'] = df_eng['cleaned_text'].swifter.apply(get_sentiment)\n",
    "df_eng.to_csv('clean_tweets_language_sentiment.csv', index=False)\n",
    "df_eng.head()"
   ]
  },
  {
   "cell_type": "markdown",
   "id": "e1cc1531",
   "metadata": {},
   "source": [
    "Check few random rows to see performance of the model"
   ]
  },
  {
   "cell_type": "code",
   "execution_count": 47,
   "id": "306a6e7b",
   "metadata": {},
   "outputs": [],
   "source": [
    "pd.set_option('display.max_colwidth', None)"
   ]
  },
  {
   "cell_type": "code",
   "execution_count": 51,
   "id": "b8484ad0",
   "metadata": {},
   "outputs": [
    {
     "data": {
      "text/html": [
       "<div>\n",
       "<style scoped>\n",
       "    .dataframe tbody tr th:only-of-type {\n",
       "        vertical-align: middle;\n",
       "    }\n",
       "\n",
       "    .dataframe tbody tr th {\n",
       "        vertical-align: top;\n",
       "    }\n",
       "\n",
       "    .dataframe thead th {\n",
       "        text-align: right;\n",
       "    }\n",
       "</style>\n",
       "<table border=\"1\" class=\"dataframe\">\n",
       "  <thead>\n",
       "    <tr style=\"text-align: right;\">\n",
       "      <th></th>\n",
       "      <th>text</th>\n",
       "      <th>sentiment</th>\n",
       "    </tr>\n",
       "  </thead>\n",
       "  <tbody>\n",
       "    <tr>\n",
       "      <th>24375</th>\n",
       "      <td>@AmazonHelp Are you going to respond?</td>\n",
       "      <td>neutral</td>\n",
       "    </tr>\n",
       "    <tr>\n",
       "      <th>98950</th>\n",
       "      <td>@AmazonHelp Thank you I’ll check the link right now</td>\n",
       "      <td>positive</td>\n",
       "    </tr>\n",
       "    <tr>\n",
       "      <th>51474</th>\n",
       "      <td>@AmazonHelp Yes. That would allow me on a per order basis to be unhappy with the timeliness of delivery.</td>\n",
       "      <td>negative</td>\n",
       "    </tr>\n",
       "    <tr>\n",
       "      <th>35465</th>\n",
       "      <td>@AmazonHelp It's not working I told u.what is ur problem I share screenshot of my order chk it and revert</td>\n",
       "      <td>negative</td>\n",
       "    </tr>\n",
       "    <tr>\n",
       "      <th>86594</th>\n",
       "      <td>@AmazonHelp Learned my delivery promised for today did not deliver and you signed me up for some remote UPS dump off service that I neither authorized nor requested (fraud?). My package did not arrive on the date promised. Long phone call w/Amazon+UPS; no resolution yet.</td>\n",
       "      <td>negative</td>\n",
       "    </tr>\n",
       "    <tr>\n",
       "      <th>76230</th>\n",
       "      <td>@AmazonHelp The delivery date given was today 10th November</td>\n",
       "      <td>neutral</td>\n",
       "    </tr>\n",
       "    <tr>\n",
       "      <th>582</th>\n",
       "      <td>@AmazonHelp Its not my issue for return pick up. U people not mention any where before purchase product otherwise i think about purchase this order.</td>\n",
       "      <td>negative</td>\n",
       "    </tr>\n",
       "    <tr>\n",
       "      <th>26163</th>\n",
       "      <td>@AmazonHelp And the same seller.</td>\n",
       "      <td>neutral</td>\n",
       "    </tr>\n",
       "    <tr>\n",
       "      <th>37965</th>\n",
       "      <td>@AmazonHelp Fuming. Prime expediated delivery. 2 days late. Open box and item been swapped. Now have to wait until monday for replacement! https://t.co/rmeAyH0Qxi</td>\n",
       "      <td>negative</td>\n",
       "    </tr>\n",
       "    <tr>\n",
       "      <th>45524</th>\n",
       "      <td>@AmazonHelp Seriously, I don't have time. I worked for whole day and now it's time for some sleep.</td>\n",
       "      <td>negative</td>\n",
       "    </tr>\n",
       "    <tr>\n",
       "      <th>60777</th>\n",
       "      <td>@AmazonHelp @115821 @15436 #horribleservice #badcustomerservice #badcustomerexperience #disappointed Amazon Prime is an utter disaster. Please refrain from opting this</td>\n",
       "      <td>negative</td>\n",
       "    </tr>\n",
       "    <tr>\n",
       "      <th>22726</th>\n",
       "      <td>@AmazonHelp I just wish it was spelled out better when I ordered.  It's the second issue I've had this week and it's a little frustrating.</td>\n",
       "      <td>negative</td>\n",
       "    </tr>\n",
       "    <tr>\n",
       "      <th>3614</th>\n",
       "      <td>@AmazonHelp This was Nov 3 https://t.co/MM8Xi8vYNt</td>\n",
       "      <td>neutral</td>\n",
       "    </tr>\n",
       "    <tr>\n",
       "      <th>14066</th>\n",
       "      <td>@AmazonHelp Can you pls help me on this</td>\n",
       "      <td>neutral</td>\n",
       "    </tr>\n",
       "  </tbody>\n",
       "</table>\n",
       "</div>"
      ],
      "text/plain": [
       "                                                                                                                                                                                                                                                                                  text  \\\n",
       "24375                                                                                                                                                                                                                                            @AmazonHelp Are you going to respond?   \n",
       "98950                                                                                                                                                                                                                              @AmazonHelp Thank you I’ll check the link right now   \n",
       "51474                                                                                                                                                                         @AmazonHelp Yes. That would allow me on a per order basis to be unhappy with the timeliness of delivery.   \n",
       "35465                                                                                                                                                                        @AmazonHelp It's not working I told u.what is ur problem I share screenshot of my order chk it and revert   \n",
       "86594  @AmazonHelp Learned my delivery promised for today did not deliver and you signed me up for some remote UPS dump off service that I neither authorized nor requested (fraud?). My package did not arrive on the date promised. Long phone call w/Amazon+UPS; no resolution yet.   \n",
       "76230                                                                                                                                                                                                                      @AmazonHelp The delivery date given was today 10th November   \n",
       "582                                                                                                                               @AmazonHelp Its not my issue for return pick up. U people not mention any where before purchase product otherwise i think about purchase this order.   \n",
       "26163                                                                                                                                                                                                                                                 @AmazonHelp And the same seller.   \n",
       "37965                                                                                                               @AmazonHelp Fuming. Prime expediated delivery. 2 days late. Open box and item been swapped. Now have to wait until monday for replacement! https://t.co/rmeAyH0Qxi   \n",
       "45524                                                                                                                                                                               @AmazonHelp Seriously, I don't have time. I worked for whole day and now it's time for some sleep.   \n",
       "60777                                                                                                          @AmazonHelp @115821 @15436 #horribleservice #badcustomerservice #badcustomerexperience #disappointed Amazon Prime is an utter disaster. Please refrain from opting this   \n",
       "22726                                                                                                                                       @AmazonHelp I just wish it was spelled out better when I ordered.  It's the second issue I've had this week and it's a little frustrating.   \n",
       "3614                                                                                                                                                                                                                                @AmazonHelp This was Nov 3 https://t.co/MM8Xi8vYNt   \n",
       "14066                                                                                                                                                                                                                                          @AmazonHelp Can you pls help me on this   \n",
       "\n",
       "      sentiment  \n",
       "24375   neutral  \n",
       "98950  positive  \n",
       "51474  negative  \n",
       "35465  negative  \n",
       "86594  negative  \n",
       "76230   neutral  \n",
       "582    negative  \n",
       "26163   neutral  \n",
       "37965  negative  \n",
       "45524  negative  \n",
       "60777  negative  \n",
       "22726  negative  \n",
       "3614    neutral  \n",
       "14066   neutral  "
      ]
     },
     "execution_count": 51,
     "metadata": {},
     "output_type": "execute_result"
    }
   ],
   "source": [
    "df_eng.sample(n=14)[['text', 'sentiment']]"
   ]
  },
  {
   "cell_type": "markdown",
   "id": "5b282956",
   "metadata": {},
   "source": [
    "## Bonus\n",
    "Sentiments of text over time using temporal analysis."
   ]
  },
  {
   "cell_type": "code",
   "execution_count": 42,
   "id": "c6425aa0",
   "metadata": {},
   "outputs": [
    {
     "data": {
      "text/plain": [
       "<Figure size 864x432 with 0 Axes>"
      ]
     },
     "metadata": {},
     "output_type": "display_data"
    },
    {
     "data": {
      "image/png": "[encoded data removed]",
      "text/plain": [
       "<Figure size 432x288 with 1 Axes>"
      ]
     },
     "metadata": {
      "needs_background": "light"
     },
     "output_type": "display_data"
    }
   ],
   "source": [
    "# Convert the 'created_at' column to datetime\n",
    "df_eng['created_at'] = pd.to_datetime(df_eng['created_at'])\n",
    "\n",
    "# Set the 'created_at' column as the DataFrame index\n",
    "df_eng.set_index('created_at', inplace=True)\n",
    "\n",
    "# Define the time interval for grouping (e.g., monthly)\n",
    "interval = 'M'\n",
    "\n",
    "# Group the tweets into the defined time interval and calculate sentiment statistics\n",
    "sentiment_stats = df_eng.groupby(pd.Grouper(freq=interval))['sentiment'].value_counts(normalize=True).unstack().fillna(0)\n",
    "\n",
    "# Plot the sentiment statistics over time\n",
    "plt.figure(figsize=(12, 6))\n",
    "sentiment_stats.plot()\n",
    "plt.xlabel('Time')\n",
    "plt.ylabel('Percentage of Sentiments')\n",
    "plt.title('Sentiment Analysis over Time')\n",
    "plt.legend(title='Sentiment')\n",
    "plt.show()"
   ]
  },
  {
   "cell_type": "code",
   "execution_count": null,
   "id": "c6e8d89e",
   "metadata": {},
   "outputs": [],
   "source": []
  }
 ],
 "metadata": {
  "kernelspec": {
   "display_name": "Python 3 (ipykernel)",
   "language": "python",
   "name": "python3"
  },
  "language_info": {
   "codemirror_mode": {
    "name": "ipython",
    "version": 3
   },
   "file_extension": ".py",
   "mimetype": "text/x-python",
   "name": "python",
   "nbconvert_exporter": "python",
   "pygments_lexer": "ipython3",
   "version": "3.9.7"
  }
 },
 "nbformat": 4,
 "nbformat_minor": 5
}
